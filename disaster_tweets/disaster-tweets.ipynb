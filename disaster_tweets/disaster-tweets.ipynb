{
 "cells": [
  {
   "cell_type": "code",
   "execution_count": 1,
   "id": "eb64c27c",
   "metadata": {
    "_cell_guid": "b1076dfc-b9ad-4769-8c92-a6c4dae69d19",
    "_uuid": "8f2839f25d086af736a60e9eeb907d3b93b6e0e5",
    "execution": {
     "iopub.execute_input": "2022-10-11T11:02:49.137560Z",
     "iopub.status.busy": "2022-10-11T11:02:49.137083Z",
     "iopub.status.idle": "2022-10-11T11:02:49.151370Z",
     "shell.execute_reply": "2022-10-11T11:02:49.149689Z"
    },
    "papermill": {
     "duration": 0.024249,
     "end_time": "2022-10-11T11:02:49.154131",
     "exception": false,
     "start_time": "2022-10-11T11:02:49.129882",
     "status": "completed"
    },
    "tags": []
   },
   "outputs": [
    {
     "name": "stdout",
     "output_type": "stream",
     "text": [
      "/kaggle/input/nlp-getting-started/sample_submission.csv\n",
      "/kaggle/input/nlp-getting-started/train.csv\n",
      "/kaggle/input/nlp-getting-started/test.csv\n"
     ]
    }
   ],
   "source": [
    "# This Python 3 environment comes with many helpful analytics libraries installed\n",
    "# It is defined by the kaggle/python Docker image: https://github.com/kaggle/docker-python\n",
    "# For example, here's several helpful packages to load\n",
    "\n",
    "import numpy as np # linear algebra\n",
    "import pandas as pd # data processing, CSV file I/O (e.g. pd.read_csv)\n",
    "\n",
    "# Input data files are available in the read-only \"../input/\" directory\n",
    "# For example, running this (by clicking run or pressing Shift+Enter) will list all files under the input directory\n",
    "\n",
    "import os\n",
    "for dirname, _, filenames in os.walk('/kaggle/input'):\n",
    "    for filename in filenames:\n",
    "        print(os.path.join(dirname, filename))\n",
    "\n",
    "# You can write up to 20GB to the current directory (/kaggle/working/) that gets preserved as output when you create a version using \"Save & Run All\" \n",
    "# You can also write temporary files to /kaggle/temp/, but they won't be saved outside of the current session"
   ]
  },
  {
   "cell_type": "code",
   "execution_count": 2,
   "id": "7daad67a",
   "metadata": {
    "execution": {
     "iopub.execute_input": "2022-10-11T11:02:49.163700Z",
     "iopub.status.busy": "2022-10-11T11:02:49.163267Z",
     "iopub.status.idle": "2022-10-11T11:02:50.499755Z",
     "shell.execute_reply": "2022-10-11T11:02:50.498548Z"
    },
    "papermill": {
     "duration": 1.344419,
     "end_time": "2022-10-11T11:02:50.502640",
     "exception": false,
     "start_time": "2022-10-11T11:02:49.158221",
     "status": "completed"
    },
    "tags": []
   },
   "outputs": [],
   "source": [
    "from sklearn import feature_extraction, linear_model, model_selection, preprocessing"
   ]
  },
  {
   "cell_type": "code",
   "execution_count": 3,
   "id": "df28dde8",
   "metadata": {
    "execution": {
     "iopub.execute_input": "2022-10-11T11:02:50.512174Z",
     "iopub.status.busy": "2022-10-11T11:02:50.511722Z",
     "iopub.status.idle": "2022-10-11T11:02:50.609805Z",
     "shell.execute_reply": "2022-10-11T11:02:50.608763Z"
    },
    "papermill": {
     "duration": 0.106033,
     "end_time": "2022-10-11T11:02:50.612586",
     "exception": false,
     "start_time": "2022-10-11T11:02:50.506553",
     "status": "completed"
    },
    "tags": []
   },
   "outputs": [],
   "source": [
    "train_df = pd.read_csv(\"/kaggle/input/nlp-getting-started/train.csv\")\n",
    "test_df = pd.read_csv(\"/kaggle/input/nlp-getting-started/test.csv\")"
   ]
  },
  {
   "cell_type": "code",
   "execution_count": 4,
   "id": "8ca10f94",
   "metadata": {
    "execution": {
     "iopub.execute_input": "2022-10-11T11:02:50.622152Z",
     "iopub.status.busy": "2022-10-11T11:02:50.621493Z",
     "iopub.status.idle": "2022-10-11T11:02:50.626750Z",
     "shell.execute_reply": "2022-10-11T11:02:50.625338Z"
    },
    "papermill": {
     "duration": 0.01248,
     "end_time": "2022-10-11T11:02:50.629041",
     "exception": false,
     "start_time": "2022-10-11T11:02:50.616561",
     "status": "completed"
    },
    "tags": []
   },
   "outputs": [],
   "source": [
    "count_vectorizer = feature_extraction.text.CountVectorizer()"
   ]
  },
  {
   "cell_type": "code",
   "execution_count": 5,
   "id": "a15180bc",
   "metadata": {
    "execution": {
     "iopub.execute_input": "2022-10-11T11:02:50.638413Z",
     "iopub.status.busy": "2022-10-11T11:02:50.637997Z",
     "iopub.status.idle": "2022-10-11T11:02:50.830220Z",
     "shell.execute_reply": "2022-10-11T11:02:50.828991Z"
    },
    "papermill": {
     "duration": 0.200053,
     "end_time": "2022-10-11T11:02:50.832906",
     "exception": false,
     "start_time": "2022-10-11T11:02:50.632853",
     "status": "completed"
    },
    "tags": []
   },
   "outputs": [],
   "source": [
    "train_vectors = count_vectorizer.fit_transform(train_df[\"text\"])"
   ]
  },
  {
   "cell_type": "code",
   "execution_count": 6,
   "id": "d79eb749",
   "metadata": {
    "execution": {
     "iopub.execute_input": "2022-10-11T11:02:50.842859Z",
     "iopub.status.busy": "2022-10-11T11:02:50.842411Z",
     "iopub.status.idle": "2022-10-11T11:02:50.904867Z",
     "shell.execute_reply": "2022-10-11T11:02:50.903629Z"
    },
    "papermill": {
     "duration": 0.07098,
     "end_time": "2022-10-11T11:02:50.907845",
     "exception": false,
     "start_time": "2022-10-11T11:02:50.836865",
     "status": "completed"
    },
    "tags": []
   },
   "outputs": [],
   "source": [
    "test_vectors = count_vectorizer.transform(test_df[\"text\"])"
   ]
  },
  {
   "cell_type": "code",
   "execution_count": 7,
   "id": "d519801d",
   "metadata": {
    "execution": {
     "iopub.execute_input": "2022-10-11T11:02:50.917483Z",
     "iopub.status.busy": "2022-10-11T11:02:50.917043Z",
     "iopub.status.idle": "2022-10-11T11:02:50.921952Z",
     "shell.execute_reply": "2022-10-11T11:02:50.920984Z"
    },
    "papermill": {
     "duration": 0.012659,
     "end_time": "2022-10-11T11:02:50.924383",
     "exception": false,
     "start_time": "2022-10-11T11:02:50.911724",
     "status": "completed"
    },
    "tags": []
   },
   "outputs": [],
   "source": [
    "clf = linear_model.RidgeClassifier()"
   ]
  },
  {
   "cell_type": "code",
   "execution_count": 8,
   "id": "9cfd3d08",
   "metadata": {
    "execution": {
     "iopub.execute_input": "2022-10-11T11:02:50.934251Z",
     "iopub.status.busy": "2022-10-11T11:02:50.933805Z",
     "iopub.status.idle": "2022-10-11T11:02:51.530114Z",
     "shell.execute_reply": "2022-10-11T11:02:51.528517Z"
    },
    "papermill": {
     "duration": 0.60608,
     "end_time": "2022-10-11T11:02:51.534337",
     "exception": false,
     "start_time": "2022-10-11T11:02:50.928257",
     "status": "completed"
    },
    "tags": []
   },
   "outputs": [
    {
     "data": {
      "text/plain": [
       "array([0.59421842, 0.56498283, 0.64113893])"
      ]
     },
     "execution_count": 8,
     "metadata": {},
     "output_type": "execute_result"
    }
   ],
   "source": [
    "scores = model_selection.cross_val_score(clf, train_vectors, train_df[\"target\"], cv=3, scoring=\"f1\")\n",
    "scores"
   ]
  },
  {
   "cell_type": "code",
   "execution_count": 9,
   "id": "fd8b762e",
   "metadata": {
    "execution": {
     "iopub.execute_input": "2022-10-11T11:02:51.556351Z",
     "iopub.status.busy": "2022-10-11T11:02:51.555594Z",
     "iopub.status.idle": "2022-10-11T11:02:51.852359Z",
     "shell.execute_reply": "2022-10-11T11:02:51.850589Z"
    },
    "papermill": {
     "duration": 0.313669,
     "end_time": "2022-10-11T11:02:51.857559",
     "exception": false,
     "start_time": "2022-10-11T11:02:51.543890",
     "status": "completed"
    },
    "tags": []
   },
   "outputs": [
    {
     "data": {
      "text/plain": [
       "RidgeClassifier()"
      ]
     },
     "execution_count": 9,
     "metadata": {},
     "output_type": "execute_result"
    }
   ],
   "source": [
    "clf.fit(train_vectors, train_df[\"target\"])"
   ]
  },
  {
   "cell_type": "code",
   "execution_count": 10,
   "id": "1b2b755f",
   "metadata": {
    "execution": {
     "iopub.execute_input": "2022-10-11T11:02:51.880997Z",
     "iopub.status.busy": "2022-10-11T11:02:51.880281Z",
     "iopub.status.idle": "2022-10-11T11:02:51.905272Z",
     "shell.execute_reply": "2022-10-11T11:02:51.903655Z"
    },
    "papermill": {
     "duration": 0.042068,
     "end_time": "2022-10-11T11:02:51.910522",
     "exception": false,
     "start_time": "2022-10-11T11:02:51.868454",
     "status": "completed"
    },
    "tags": []
   },
   "outputs": [],
   "source": [
    "sample_submission = pd.read_csv(\"/kaggle/input/nlp-getting-started/sample_submission.csv\")"
   ]
  },
  {
   "cell_type": "code",
   "execution_count": 11,
   "id": "ad5b6c02",
   "metadata": {
    "execution": {
     "iopub.execute_input": "2022-10-11T11:02:51.932692Z",
     "iopub.status.busy": "2022-10-11T11:02:51.931983Z",
     "iopub.status.idle": "2022-10-11T11:02:51.945995Z",
     "shell.execute_reply": "2022-10-11T11:02:51.944194Z"
    },
    "papermill": {
     "duration": 0.030978,
     "end_time": "2022-10-11T11:02:51.951132",
     "exception": false,
     "start_time": "2022-10-11T11:02:51.920154",
     "status": "completed"
    },
    "tags": []
   },
   "outputs": [],
   "source": [
    "sample_submission[\"target\"] = clf.predict(test_vectors)"
   ]
  },
  {
   "cell_type": "code",
   "execution_count": 12,
   "id": "f4700b6f",
   "metadata": {
    "execution": {
     "iopub.execute_input": "2022-10-11T11:02:51.966266Z",
     "iopub.status.busy": "2022-10-11T11:02:51.965834Z",
     "iopub.status.idle": "2022-10-11T11:02:51.978167Z",
     "shell.execute_reply": "2022-10-11T11:02:51.977158Z"
    },
    "papermill": {
     "duration": 0.021073,
     "end_time": "2022-10-11T11:02:51.981483",
     "exception": false,
     "start_time": "2022-10-11T11:02:51.960410",
     "status": "completed"
    },
    "tags": []
   },
   "outputs": [],
   "source": [
    "sample_submission.to_csv(\"submission.csv\", index=False)"
   ]
  }
 ],
 "metadata": {
  "kernelspec": {
   "display_name": "Python 3",
   "language": "python",
   "name": "python3"
  },
  "language_info": {
   "codemirror_mode": {
    "name": "ipython",
    "version": 3
   },
   "file_extension": ".py",
   "mimetype": "text/x-python",
   "name": "python",
   "nbconvert_exporter": "python",
   "pygments_lexer": "ipython3",
   "version": "3.7.12"
  },
  "papermill": {
   "default_parameters": {},
   "duration": 13.801136,
   "end_time": "2022-10-11T11:02:52.808408",
   "environment_variables": {},
   "exception": null,
   "input_path": "__notebook__.ipynb",
   "output_path": "__notebook__.ipynb",
   "parameters": {},
   "start_time": "2022-10-11T11:02:39.007272",
   "version": "2.3.4"
  }
 },
 "nbformat": 4,
 "nbformat_minor": 5
}
