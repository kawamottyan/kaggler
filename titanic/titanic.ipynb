{
 "cells": [
  {
   "cell_type": "code",
   "execution_count": 1,
   "id": "beae37db",
   "metadata": {
    "_cell_guid": "b1076dfc-b9ad-4769-8c92-a6c4dae69d19",
    "_uuid": "8f2839f25d086af736a60e9eeb907d3b93b6e0e5",
    "execution": {
     "iopub.execute_input": "2022-10-07T13:56:57.751217Z",
     "iopub.status.busy": "2022-10-07T13:56:57.750225Z",
     "iopub.status.idle": "2022-10-07T13:56:57.771182Z",
     "shell.execute_reply": "2022-10-07T13:56:57.769870Z"
    },
    "papermill": {
     "duration": 0.031278,
     "end_time": "2022-10-07T13:56:57.773981",
     "exception": false,
     "start_time": "2022-10-07T13:56:57.742703",
     "status": "completed"
    },
    "tags": []
   },
   "outputs": [
    {
     "name": "stdout",
     "output_type": "stream",
     "text": [
      "/kaggle/input/titanic/train.csv\n",
      "/kaggle/input/titanic/test.csv\n",
      "/kaggle/input/titanic/gender_submission.csv\n"
     ]
    }
   ],
   "source": [
    "# This Python 3 environment comes with many helpful analytics libraries installed\n",
    "# It is defined by the kaggle/python Docker image: https://github.com/kaggle/docker-python\n",
    "# For example, here's several helpful packages to load\n",
    "\n",
    "import numpy as np # linear algebra\n",
    "import pandas as pd # data processing, CSV file I/O (e.g. pd.read_csv)\n",
    "\n",
    "# Input data files are available in the read-only \"../input/\" directory\n",
    "# For example, running this (by clicking run or pressing Shift+Enter) will list all files under the input directory\n",
    "\n",
    "import os\n",
    "for dirname, _, filenames in os.walk('/kaggle/input'):\n",
    "    for filename in filenames:\n",
    "        print(os.path.join(dirname, filename))\n",
    "\n",
    "# You can write up to 20GB to the current directory (/kaggle/working/) that gets preserved as output when you create a version using \"Save & Run All\" \n",
    "# You can also write temporary files to /kaggle/temp/, but they won't be saved outside of the current session"
   ]
  },
  {
   "cell_type": "code",
   "execution_count": 2,
   "id": "d31d0346",
   "metadata": {
    "execution": {
     "iopub.execute_input": "2022-10-07T13:56:57.784698Z",
     "iopub.status.busy": "2022-10-07T13:56:57.784338Z",
     "iopub.status.idle": "2022-10-07T13:56:57.813321Z",
     "shell.execute_reply": "2022-10-07T13:56:57.812219Z"
    },
    "papermill": {
     "duration": 0.037978,
     "end_time": "2022-10-07T13:56:57.816808",
     "exception": false,
     "start_time": "2022-10-07T13:56:57.778830",
     "status": "completed"
    },
    "tags": []
   },
   "outputs": [],
   "source": [
    "train = pd.read_csv('../input/titanic/train.csv')\n",
    "test = pd.read_csv('../input/titanic/test.csv')"
   ]
  },
  {
   "cell_type": "code",
   "execution_count": 3,
   "id": "453aa5be",
   "metadata": {
    "execution": {
     "iopub.execute_input": "2022-10-07T13:56:57.832203Z",
     "iopub.status.busy": "2022-10-07T13:56:57.831233Z",
     "iopub.status.idle": "2022-10-07T13:56:57.848259Z",
     "shell.execute_reply": "2022-10-07T13:56:57.847279Z"
    },
    "papermill": {
     "duration": 0.027712,
     "end_time": "2022-10-07T13:56:57.851124",
     "exception": false,
     "start_time": "2022-10-07T13:56:57.823412",
     "status": "completed"
    },
    "tags": []
   },
   "outputs": [],
   "source": [
    "data = pd.concat([train, test], sort=False)"
   ]
  },
  {
   "cell_type": "code",
   "execution_count": 4,
   "id": "2cef5e88",
   "metadata": {
    "execution": {
     "iopub.execute_input": "2022-10-07T13:56:57.865961Z",
     "iopub.status.busy": "2022-10-07T13:56:57.864509Z",
     "iopub.status.idle": "2022-10-07T13:56:57.884219Z",
     "shell.execute_reply": "2022-10-07T13:56:57.883112Z"
    },
    "papermill": {
     "duration": 0.030942,
     "end_time": "2022-10-07T13:56:57.887244",
     "exception": false,
     "start_time": "2022-10-07T13:56:57.856302",
     "status": "completed"
    },
    "tags": []
   },
   "outputs": [
    {
     "data": {
      "text/plain": [
       "PassengerId       0\n",
       "Survived        418\n",
       "Pclass            0\n",
       "Name              0\n",
       "Sex               0\n",
       "Age             263\n",
       "SibSp             0\n",
       "Parch             0\n",
       "Ticket            0\n",
       "Fare              1\n",
       "Cabin          1014\n",
       "Embarked          2\n",
       "dtype: int64"
      ]
     },
     "execution_count": 4,
     "metadata": {},
     "output_type": "execute_result"
    }
   ],
   "source": [
    "data.isnull().sum()"
   ]
  },
  {
   "cell_type": "code",
   "execution_count": 5,
   "id": "7fd81475",
   "metadata": {
    "execution": {
     "iopub.execute_input": "2022-10-07T13:56:57.900144Z",
     "iopub.status.busy": "2022-10-07T13:56:57.899275Z",
     "iopub.status.idle": "2022-10-07T13:56:57.909006Z",
     "shell.execute_reply": "2022-10-07T13:56:57.908039Z"
    },
    "papermill": {
     "duration": 0.017833,
     "end_time": "2022-10-07T13:56:57.911238",
     "exception": false,
     "start_time": "2022-10-07T13:56:57.893405",
     "status": "completed"
    },
    "tags": []
   },
   "outputs": [],
   "source": [
    "data['Sex'] = data['Sex'].map({'male':0,'female':1})"
   ]
  },
  {
   "cell_type": "code",
   "execution_count": 6,
   "id": "875c6cbb",
   "metadata": {
    "execution": {
     "iopub.execute_input": "2022-10-07T13:56:57.922396Z",
     "iopub.status.busy": "2022-10-07T13:56:57.921527Z",
     "iopub.status.idle": "2022-10-07T13:56:57.929152Z",
     "shell.execute_reply": "2022-10-07T13:56:57.927453Z"
    },
    "papermill": {
     "duration": 0.019083,
     "end_time": "2022-10-07T13:56:57.934699",
     "exception": false,
     "start_time": "2022-10-07T13:56:57.915616",
     "status": "completed"
    },
    "tags": []
   },
   "outputs": [],
   "source": [
    "data['Embarked'].fillna(('S'), inplace=True)"
   ]
  },
  {
   "cell_type": "code",
   "execution_count": 7,
   "id": "33d5c386",
   "metadata": {
    "execution": {
     "iopub.execute_input": "2022-10-07T13:56:57.946603Z",
     "iopub.status.busy": "2022-10-07T13:56:57.945677Z",
     "iopub.status.idle": "2022-10-07T13:56:57.952498Z",
     "shell.execute_reply": "2022-10-07T13:56:57.951543Z"
    },
    "papermill": {
     "duration": 0.01544,
     "end_time": "2022-10-07T13:56:57.954797",
     "exception": false,
     "start_time": "2022-10-07T13:56:57.939357",
     "status": "completed"
    },
    "tags": []
   },
   "outputs": [],
   "source": [
    "data['Embarked'] = data['Embarked'].map({'S': 0, 'C': 1, 'Q': 2})"
   ]
  },
  {
   "cell_type": "code",
   "execution_count": 8,
   "id": "3d6b9edf",
   "metadata": {
    "execution": {
     "iopub.execute_input": "2022-10-07T13:56:57.965098Z",
     "iopub.status.busy": "2022-10-07T13:56:57.964521Z",
     "iopub.status.idle": "2022-10-07T13:56:57.970825Z",
     "shell.execute_reply": "2022-10-07T13:56:57.969967Z"
    },
    "papermill": {
     "duration": 0.013752,
     "end_time": "2022-10-07T13:56:57.972944",
     "exception": false,
     "start_time": "2022-10-07T13:56:57.959192",
     "status": "completed"
    },
    "tags": []
   },
   "outputs": [],
   "source": [
    "data['Fare'].fillna(np.mean(data['Fare']), inplace=True)"
   ]
  },
  {
   "cell_type": "code",
   "execution_count": 9,
   "id": "b7c16c2f",
   "metadata": {
    "execution": {
     "iopub.execute_input": "2022-10-07T13:56:57.983856Z",
     "iopub.status.busy": "2022-10-07T13:56:57.982848Z",
     "iopub.status.idle": "2022-10-07T13:56:57.990084Z",
     "shell.execute_reply": "2022-10-07T13:56:57.989061Z"
    },
    "papermill": {
     "duration": 0.015449,
     "end_time": "2022-10-07T13:56:57.992729",
     "exception": false,
     "start_time": "2022-10-07T13:56:57.977280",
     "status": "completed"
    },
    "tags": []
   },
   "outputs": [],
   "source": [
    "age_avg = data['Age'].mean()\n",
    "age_std = data['Age'].std()\n",
    "data['Age'].fillna(np.random.randint(age_avg - age_std, age_avg + age_std), inplace=True)"
   ]
  },
  {
   "cell_type": "code",
   "execution_count": 10,
   "id": "1b84ede7",
   "metadata": {
    "execution": {
     "iopub.execute_input": "2022-10-07T13:56:58.003079Z",
     "iopub.status.busy": "2022-10-07T13:56:58.002748Z",
     "iopub.status.idle": "2022-10-07T13:56:58.017984Z",
     "shell.execute_reply": "2022-10-07T13:56:58.016892Z"
    },
    "papermill": {
     "duration": 0.023019,
     "end_time": "2022-10-07T13:56:58.020400",
     "exception": false,
     "start_time": "2022-10-07T13:56:57.997381",
     "status": "completed"
    },
    "tags": []
   },
   "outputs": [],
   "source": [
    "delete_columns = ['Name', 'PassengerId', 'SibSp', 'Parch', 'Ticket', 'Cabin']\n",
    "data.drop(delete_columns, axis=1, inplace=True)"
   ]
  },
  {
   "cell_type": "code",
   "execution_count": 11,
   "id": "ae792ab5",
   "metadata": {
    "execution": {
     "iopub.execute_input": "2022-10-07T13:56:58.031186Z",
     "iopub.status.busy": "2022-10-07T13:56:58.030264Z",
     "iopub.status.idle": "2022-10-07T13:56:58.035709Z",
     "shell.execute_reply": "2022-10-07T13:56:58.034718Z"
    },
    "papermill": {
     "duration": 0.013082,
     "end_time": "2022-10-07T13:56:58.037968",
     "exception": false,
     "start_time": "2022-10-07T13:56:58.024886",
     "status": "completed"
    },
    "tags": []
   },
   "outputs": [],
   "source": [
    "train = data[:len(train)]\n",
    "test = data[len(train):]"
   ]
  },
  {
   "cell_type": "code",
   "execution_count": 12,
   "id": "b2580ad9",
   "metadata": {
    "execution": {
     "iopub.execute_input": "2022-10-07T13:56:58.048451Z",
     "iopub.status.busy": "2022-10-07T13:56:58.047825Z",
     "iopub.status.idle": "2022-10-07T13:56:58.055975Z",
     "shell.execute_reply": "2022-10-07T13:56:58.054594Z"
    },
    "papermill": {
     "duration": 0.016739,
     "end_time": "2022-10-07T13:56:58.059086",
     "exception": false,
     "start_time": "2022-10-07T13:56:58.042347",
     "status": "completed"
    },
    "tags": []
   },
   "outputs": [],
   "source": [
    "y_train = train['Survived']\n",
    "X_train = train.drop('Survived', axis=1)\n",
    "X_test = test.drop('Survived', axis=1)"
   ]
  },
  {
   "cell_type": "code",
   "execution_count": 13,
   "id": "41c0344e",
   "metadata": {
    "execution": {
     "iopub.execute_input": "2022-10-07T13:56:58.072726Z",
     "iopub.status.busy": "2022-10-07T13:56:58.071513Z",
     "iopub.status.idle": "2022-10-07T13:56:59.225058Z",
     "shell.execute_reply": "2022-10-07T13:56:59.223602Z"
    },
    "papermill": {
     "duration": 1.163592,
     "end_time": "2022-10-07T13:56:59.227275",
     "exception": false,
     "start_time": "2022-10-07T13:56:58.063683",
     "status": "completed"
    },
    "tags": []
   },
   "outputs": [
    {
     "name": "stderr",
     "output_type": "stream",
     "text": [
      "/opt/conda/lib/python3.7/site-packages/sklearn/linear_model/_sag.py:354: ConvergenceWarning: The max_iter was reached which means the coef_ did not converge\n",
      "  ConvergenceWarning,\n"
     ]
    },
    {
     "data": {
      "text/plain": [
       "LogisticRegression(random_state=0, solver='sag')"
      ]
     },
     "execution_count": 13,
     "metadata": {},
     "output_type": "execute_result"
    }
   ],
   "source": [
    "from sklearn.linear_model import LogisticRegression\n",
    "clf = LogisticRegression(penalty='l2', solver='sag', random_state=0)\n",
    "clf.fit(X_train, y_train)"
   ]
  },
  {
   "cell_type": "code",
   "execution_count": 14,
   "id": "063e8ebc",
   "metadata": {
    "execution": {
     "iopub.execute_input": "2022-10-07T13:56:59.238100Z",
     "iopub.status.busy": "2022-10-07T13:56:59.237367Z",
     "iopub.status.idle": "2022-10-07T13:56:59.245473Z",
     "shell.execute_reply": "2022-10-07T13:56:59.244412Z"
    },
    "papermill": {
     "duration": 0.015729,
     "end_time": "2022-10-07T13:56:59.247521",
     "exception": false,
     "start_time": "2022-10-07T13:56:59.231792",
     "status": "completed"
    },
    "tags": []
   },
   "outputs": [],
   "source": [
    "y_pred = clf.predict(X_test).astype(int)"
   ]
  },
  {
   "cell_type": "code",
   "execution_count": 15,
   "id": "dcee755c",
   "metadata": {
    "execution": {
     "iopub.execute_input": "2022-10-07T13:56:59.258095Z",
     "iopub.status.busy": "2022-10-07T13:56:59.257740Z",
     "iopub.status.idle": "2022-10-07T13:56:59.271969Z",
     "shell.execute_reply": "2022-10-07T13:56:59.271118Z"
    },
    "papermill": {
     "duration": 0.022644,
     "end_time": "2022-10-07T13:56:59.274710",
     "exception": false,
     "start_time": "2022-10-07T13:56:59.252066",
     "status": "completed"
    },
    "tags": []
   },
   "outputs": [],
   "source": [
    "sub = pd.read_csv('../input/titanic/gender_submission.csv')\n",
    "sub['Survived'] = y_pred\n",
    "sub.to_csv('submission.csv', index=False)"
   ]
  }
 ],
 "metadata": {
  "kernelspec": {
   "display_name": "Python 3",
   "language": "python",
   "name": "python3"
  },
  "language_info": {
   "codemirror_mode": {
    "name": "ipython",
    "version": 3
   },
   "file_extension": ".py",
   "mimetype": "text/x-python",
   "name": "python",
   "nbconvert_exporter": "python",
   "pygments_lexer": "ipython3",
   "version": "3.7.12"
  },
  "papermill": {
   "default_parameters": {},
   "duration": 11.239184,
   "end_time": "2022-10-07T13:57:00.000198",
   "environment_variables": {},
   "exception": null,
   "input_path": "__notebook__.ipynb",
   "output_path": "__notebook__.ipynb",
   "parameters": {},
   "start_time": "2022-10-07T13:56:48.761014",
   "version": "2.3.4"
  }
 },
 "nbformat": 4,
 "nbformat_minor": 5
}
