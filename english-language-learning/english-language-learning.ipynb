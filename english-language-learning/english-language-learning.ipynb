{
 "cells": [
  {
   "cell_type": "code",
   "execution_count": 1,
   "id": "09d53d7f",
   "metadata": {
    "_cell_guid": "b1076dfc-b9ad-4769-8c92-a6c4dae69d19",
    "_uuid": "8f2839f25d086af736a60e9eeb907d3b93b6e0e5",
    "execution": {
     "iopub.execute_input": "2023-01-25T06:12:31.023671Z",
     "iopub.status.busy": "2023-01-25T06:12:31.022692Z",
     "iopub.status.idle": "2023-01-25T06:12:31.042696Z",
     "shell.execute_reply": "2023-01-25T06:12:31.040922Z"
    },
    "papermill": {
     "duration": 0.034886,
     "end_time": "2023-01-25T06:12:31.046120",
     "exception": false,
     "start_time": "2023-01-25T06:12:31.011234",
     "status": "completed"
    },
    "tags": []
   },
   "outputs": [
    {
     "name": "stdout",
     "output_type": "stream",
     "text": [
      "/kaggle/input/feedback-prize-english-language-learning/sample_submission.csv\n",
      "/kaggle/input/feedback-prize-english-language-learning/train.csv\n",
      "/kaggle/input/feedback-prize-english-language-learning/test.csv\n"
     ]
    }
   ],
   "source": [
    "#データセット取得\n",
    "import os\n",
    "for dirname, _, filenames in os.walk('/kaggle/input'):\n",
    "    for filename in filenames:\n",
    "        print(os.path.join(dirname, filename))"
   ]
  },
  {
   "cell_type": "code",
   "execution_count": 2,
   "id": "4327febe",
   "metadata": {
    "execution": {
     "iopub.execute_input": "2023-01-25T06:12:31.063833Z",
     "iopub.status.busy": "2023-01-25T06:12:31.062590Z",
     "iopub.status.idle": "2023-01-25T06:12:33.536437Z",
     "shell.execute_reply": "2023-01-25T06:12:33.535167Z"
    },
    "papermill": {
     "duration": 2.48555,
     "end_time": "2023-01-25T06:12:33.539461",
     "exception": false,
     "start_time": "2023-01-25T06:12:31.053911",
     "status": "completed"
    },
    "tags": []
   },
   "outputs": [
    {
     "data": {
      "text/html": [
       "<style type='text/css'>\n",
       ".datatable table.frame { margin-bottom: 0; }\n",
       ".datatable table.frame thead { border-bottom: none; }\n",
       ".datatable table.frame tr.coltypes td {  color: #FFFFFF;  line-height: 6px;  padding: 0 0.5em;}\n",
       ".datatable .bool    { background: #DDDD99; }\n",
       ".datatable .object  { background: #565656; }\n",
       ".datatable .int     { background: #5D9E5D; }\n",
       ".datatable .float   { background: #4040CC; }\n",
       ".datatable .str     { background: #CC4040; }\n",
       ".datatable .time    { background: #40CC40; }\n",
       ".datatable .row_index {  background: var(--jp-border-color3);  border-right: 1px solid var(--jp-border-color0);  color: var(--jp-ui-font-color3);  font-size: 9px;}\n",
       ".datatable .frame tbody td { text-align: left; }\n",
       ".datatable .frame tr.coltypes .row_index {  background: var(--jp-border-color0);}\n",
       ".datatable th:nth-child(2) { padding-left: 12px; }\n",
       ".datatable .hellipsis {  color: var(--jp-cell-editor-border-color);}\n",
       ".datatable .vellipsis {  background: var(--jp-layout-color0);  color: var(--jp-cell-editor-border-color);}\n",
       ".datatable .na {  color: var(--jp-cell-editor-border-color);  font-size: 80%;}\n",
       ".datatable .sp {  opacity: 0.25;}\n",
       ".datatable .footer { font-size: 9px; }\n",
       ".datatable .frame_dimensions {  background: var(--jp-border-color3);  border-top: 1px solid var(--jp-border-color0);  color: var(--jp-ui-font-color3);  display: inline-block;  opacity: 0.6;  padding: 1px 10px 1px 5px;}\n",
       "</style>\n"
      ],
      "text/plain": [
       "<IPython.core.display.HTML object>"
      ]
     },
     "metadata": {},
     "output_type": "display_data"
    }
   ],
   "source": [
    "#モデルインポート\n",
    "import pandas as pd\n",
    "import numpy as np\n",
    "import re\n",
    "from sklearn.multioutput import MultiOutputRegressor\n",
    "from lightgbm import LGBMRegressor\n",
    "from catboost import CatBoostRegressor\n",
    "import xgboost as xgb\n",
    "from sklearn.linear_model import Ridge\n",
    "from sklearn.linear_model import LinearRegression"
   ]
  },
  {
   "cell_type": "code",
   "execution_count": 3,
   "id": "32afc8e1",
   "metadata": {
    "execution": {
     "iopub.execute_input": "2023-01-25T06:12:33.557380Z",
     "iopub.status.busy": "2023-01-25T06:12:33.556563Z",
     "iopub.status.idle": "2023-01-25T06:12:33.862799Z",
     "shell.execute_reply": "2023-01-25T06:12:33.861347Z"
    },
    "papermill": {
     "duration": 0.318223,
     "end_time": "2023-01-25T06:12:33.865384",
     "exception": false,
     "start_time": "2023-01-25T06:12:33.547161",
     "status": "completed"
    },
    "tags": []
   },
   "outputs": [],
   "source": [
    "#トレーニングデータ・テストデータの準備\n",
    "train=pd.read_csv('../input/feedback-prize-english-language-learning/train.csv')\n",
    "test=pd.read_csv('../input/feedback-prize-english-language-learning/test.csv')"
   ]
  },
  {
   "cell_type": "code",
   "execution_count": 4,
   "id": "7814013d",
   "metadata": {
    "execution": {
     "iopub.execute_input": "2023-01-25T06:12:33.881623Z",
     "iopub.status.busy": "2023-01-25T06:12:33.881196Z",
     "iopub.status.idle": "2023-01-25T06:12:33.887030Z",
     "shell.execute_reply": "2023-01-25T06:12:33.885720Z"
    },
    "papermill": {
     "duration": 0.016601,
     "end_time": "2023-01-25T06:12:33.889363",
     "exception": false,
     "start_time": "2023-01-25T06:12:33.872762",
     "status": "completed"
    },
    "tags": []
   },
   "outputs": [],
   "source": [
    "#データ前処理\n",
    "def data_cleaner(text):\n",
    "    text = text.strip()\n",
    "    text = re.sub(r'\\n', '', text)\n",
    "    text = text.lower()\n",
    "    return text"
   ]
  },
  {
   "cell_type": "code",
   "execution_count": 5,
   "id": "cd559a1d",
   "metadata": {
    "execution": {
     "iopub.execute_input": "2023-01-25T06:12:33.906466Z",
     "iopub.status.busy": "2023-01-25T06:12:33.905637Z",
     "iopub.status.idle": "2023-01-25T06:12:33.953201Z",
     "shell.execute_reply": "2023-01-25T06:12:33.951936Z"
    },
    "papermill": {
     "duration": 0.059266,
     "end_time": "2023-01-25T06:12:33.956136",
     "exception": false,
     "start_time": "2023-01-25T06:12:33.896870",
     "status": "completed"
    },
    "tags": []
   },
   "outputs": [],
   "source": [
    "#'full_text'列のデータ前処理実行\n",
    "train['full_text']=train['full_text'].apply(data_cleaner)\n",
    "test['full_text']=test['full_text'].apply(data_cleaner)"
   ]
  },
  {
   "cell_type": "code",
   "execution_count": 6,
   "id": "5b6257c3",
   "metadata": {
    "execution": {
     "iopub.execute_input": "2023-01-25T06:12:33.974501Z",
     "iopub.status.busy": "2023-01-25T06:12:33.973681Z",
     "iopub.status.idle": "2023-01-25T06:12:52.920985Z",
     "shell.execute_reply": "2023-01-25T06:12:52.919733Z"
    },
    "papermill": {
     "duration": 18.958567,
     "end_time": "2023-01-25T06:12:52.923565",
     "exception": false,
     "start_time": "2023-01-25T06:12:33.964998",
     "status": "completed"
    },
    "tags": []
   },
   "outputs": [
    {
     "name": "stderr",
     "output_type": "stream",
     "text": [
      "100%|██████████| 3911/3911 [00:18<00:00, 213.54it/s]\n",
      "100%|██████████| 3/3 [00:00<00:00, 174.29it/s]\n"
     ]
    }
   ],
   "source": [
    "#感情分析で特徴量を作成\n",
    "import nltk\n",
    "from tqdm import tqdm\n",
    "from nltk.sentiment.vader import SentimentIntensityAnalyzer\n",
    "def generate_sentiment_scores(data):\n",
    "    sid = SentimentIntensityAnalyzer()\n",
    "    neg=[]\n",
    "    pos=[]\n",
    "    neu=[]\n",
    "    comp=[]\n",
    "    for sentence in tqdm(data['full_text'].values): \n",
    "        sentence_sentiment_score = sid.polarity_scores(sentence)\n",
    "        comp.append(sentence_sentiment_score['compound'])\n",
    "        neg.append(sentence_sentiment_score['neg'])\n",
    "        pos.append(sentence_sentiment_score['pos'])\n",
    "        neu.append(sentence_sentiment_score['neu'])\n",
    "    return comp,neg,pos,neu\n",
    "train['compound'],train['negative'],train['positive'],train['neutral']=generate_sentiment_scores(train)\n",
    "test['compound'],test['negative'],test['positive'],test['neutral']=generate_sentiment_scores(test)"
   ]
  },
  {
   "cell_type": "code",
   "execution_count": 7,
   "id": "dd350818",
   "metadata": {
    "execution": {
     "iopub.execute_input": "2023-01-25T06:12:52.962619Z",
     "iopub.status.busy": "2023-01-25T06:12:52.962196Z",
     "iopub.status.idle": "2023-01-25T06:12:53.061880Z",
     "shell.execute_reply": "2023-01-25T06:12:53.060500Z"
    },
    "papermill": {
     "duration": 0.122061,
     "end_time": "2023-01-25T06:12:53.064910",
     "exception": false,
     "start_time": "2023-01-25T06:12:52.942849",
     "status": "completed"
    },
    "tags": []
   },
   "outputs": [],
   "source": [
    "#'full_text'列の単語数である'com_len'列を作成\n",
    "train['com_len']=train['full_text'].apply(lambda x:len(x.split()))\n",
    "test['com_len']=test['full_text'].apply(lambda x:len(x.split()))"
   ]
  },
  {
   "cell_type": "code",
   "execution_count": 8,
   "id": "b1b0f91a",
   "metadata": {
    "execution": {
     "iopub.execute_input": "2023-01-25T06:12:53.103617Z",
     "iopub.status.busy": "2023-01-25T06:12:53.103193Z",
     "iopub.status.idle": "2023-01-25T06:12:54.290505Z",
     "shell.execute_reply": "2023-01-25T06:12:54.289402Z"
    },
    "papermill": {
     "duration": 1.209923,
     "end_time": "2023-01-25T06:12:54.293117",
     "exception": false,
     "start_time": "2023-01-25T06:12:53.083194",
     "status": "completed"
    },
    "tags": []
   },
   "outputs": [],
   "source": [
    "#'full_text'列をTfidfでベクトル化\n",
    "from sklearn.feature_extraction.text import TfidfVectorizer\n",
    "vectorizer = TfidfVectorizer()\n",
    "X_train = vectorizer.fit_transform(train['full_text'])\n",
    "X_test = vectorizer.transform(test['full_text'])"
   ]
  },
  {
   "cell_type": "code",
   "execution_count": 9,
   "id": "5afb02fb",
   "metadata": {
    "execution": {
     "iopub.execute_input": "2023-01-25T06:12:54.333342Z",
     "iopub.status.busy": "2023-01-25T06:12:54.332910Z",
     "iopub.status.idle": "2023-01-25T06:12:54.342140Z",
     "shell.execute_reply": "2023-01-25T06:12:54.341012Z"
    },
    "papermill": {
     "duration": 0.031369,
     "end_time": "2023-01-25T06:12:54.344300",
     "exception": false,
     "start_time": "2023-01-25T06:12:54.312931",
     "status": "completed"
    },
    "tags": []
   },
   "outputs": [
    {
     "name": "stdout",
     "output_type": "stream",
     "text": [
      "CPU times: user 0 ns, sys: 2.67 ms, total: 2.67 ms\n",
      "Wall time: 2.36 ms\n"
     ]
    }
   ],
   "source": [
    "%%time\n",
    "#'compound'列の値の範囲を(-1,1)に変換\n",
    "from sklearn.preprocessing import Normalizer\n",
    "trans = Normalizer()\n",
    "X_train_com=trans.fit_transform(train['compound'].values.reshape(-1,1))\n",
    "X_test_com=trans.transform(test['compound'].values.reshape(-1,1))"
   ]
  },
  {
   "cell_type": "code",
   "execution_count": 10,
   "id": "6a8ae3a0",
   "metadata": {
    "execution": {
     "iopub.execute_input": "2023-01-25T06:12:54.382316Z",
     "iopub.status.busy": "2023-01-25T06:12:54.381362Z",
     "iopub.status.idle": "2023-01-25T06:12:54.389885Z",
     "shell.execute_reply": "2023-01-25T06:12:54.388576Z"
    },
    "papermill": {
     "duration": 0.029971,
     "end_time": "2023-01-25T06:12:54.392358",
     "exception": false,
     "start_time": "2023-01-25T06:12:54.362387",
     "status": "completed"
    },
    "tags": []
   },
   "outputs": [
    {
     "name": "stdout",
     "output_type": "stream",
     "text": [
      "CPU times: user 866 µs, sys: 0 ns, total: 866 µs\n",
      "Wall time: 879 µs\n"
     ]
    }
   ],
   "source": [
    "%%time\n",
    "#'negative'列の値の範囲を(-1,1)に変換\n",
    "from sklearn.preprocessing import Normalizer\n",
    "trans = Normalizer()\n",
    "X_train_neg=trans.fit_transform(train['negative'].values.reshape(-1,1))\n",
    "X_test_neg=trans.transform(test['negative'].values.reshape(-1,1))"
   ]
  },
  {
   "cell_type": "code",
   "execution_count": 11,
   "id": "bb27c8f7",
   "metadata": {
    "execution": {
     "iopub.execute_input": "2023-01-25T06:12:54.429681Z",
     "iopub.status.busy": "2023-01-25T06:12:54.429269Z",
     "iopub.status.idle": "2023-01-25T06:12:54.437315Z",
     "shell.execute_reply": "2023-01-25T06:12:54.436055Z"
    },
    "papermill": {
     "duration": 0.029985,
     "end_time": "2023-01-25T06:12:54.440090",
     "exception": false,
     "start_time": "2023-01-25T06:12:54.410105",
     "status": "completed"
    },
    "tags": []
   },
   "outputs": [
    {
     "name": "stdout",
     "output_type": "stream",
     "text": [
      "CPU times: user 1.63 ms, sys: 0 ns, total: 1.63 ms\n",
      "Wall time: 1.51 ms\n"
     ]
    }
   ],
   "source": [
    "%%time\n",
    "#'positive'列の値の範囲を(-1,1)に変換\n",
    "from sklearn.preprocessing import Normalizer\n",
    "trans = Normalizer()\n",
    "X_train_pos=trans.fit_transform(train['positive'].values.reshape(-1,1))\n",
    "X_test_pos=trans.transform(test['positive'].values.reshape(-1,1))"
   ]
  },
  {
   "cell_type": "code",
   "execution_count": 12,
   "id": "b0c32361",
   "metadata": {
    "execution": {
     "iopub.execute_input": "2023-01-25T06:12:54.478532Z",
     "iopub.status.busy": "2023-01-25T06:12:54.478118Z",
     "iopub.status.idle": "2023-01-25T06:12:54.488539Z",
     "shell.execute_reply": "2023-01-25T06:12:54.486821Z"
    },
    "papermill": {
     "duration": 0.033122,
     "end_time": "2023-01-25T06:12:54.491472",
     "exception": false,
     "start_time": "2023-01-25T06:12:54.458350",
     "status": "completed"
    },
    "tags": []
   },
   "outputs": [
    {
     "name": "stdout",
     "output_type": "stream",
     "text": [
      "CPU times: user 2.44 ms, sys: 29 µs, total: 2.47 ms\n",
      "Wall time: 2.38 ms\n"
     ]
    }
   ],
   "source": [
    "%%time\n",
    "#'neutral'列の値の範囲を(-1,1)に変換\n",
    "from sklearn.preprocessing import Normalizer\n",
    "trans = Normalizer()\n",
    "X_train_neu=trans.fit_transform(train['neutral'].values.reshape(-1,1))\n",
    "X_test_neu=trans.transform(test['neutral'].values.reshape(-1,1))"
   ]
  },
  {
   "cell_type": "code",
   "execution_count": 13,
   "id": "5d99bd32",
   "metadata": {
    "execution": {
     "iopub.execute_input": "2023-01-25T06:12:54.529130Z",
     "iopub.status.busy": "2023-01-25T06:12:54.528667Z",
     "iopub.status.idle": "2023-01-25T06:12:54.537198Z",
     "shell.execute_reply": "2023-01-25T06:12:54.535927Z"
    },
    "papermill": {
     "duration": 0.02999,
     "end_time": "2023-01-25T06:12:54.539546",
     "exception": false,
     "start_time": "2023-01-25T06:12:54.509556",
     "status": "completed"
    },
    "tags": []
   },
   "outputs": [
    {
     "name": "stdout",
     "output_type": "stream",
     "text": [
      "CPU times: user 2.1 ms, sys: 0 ns, total: 2.1 ms\n",
      "Wall time: 1.91 ms\n"
     ]
    }
   ],
   "source": [
    "%%time\n",
    "#'com_len'列の値の範囲を(-1,1)に変換\n",
    "from sklearn.preprocessing import Normalizer\n",
    "trans = Normalizer()\n",
    "X_train_len=trans.fit_transform(train['com_len'].values.reshape(-1,1))\n",
    "X_test_len=trans.transform(test['com_len'].values.reshape(-1,1))"
   ]
  },
  {
   "cell_type": "code",
   "execution_count": 14,
   "id": "8d9f0587",
   "metadata": {
    "execution": {
     "iopub.execute_input": "2023-01-25T06:12:54.578539Z",
     "iopub.status.busy": "2023-01-25T06:12:54.578131Z",
     "iopub.status.idle": "2023-01-25T06:12:54.606890Z",
     "shell.execute_reply": "2023-01-25T06:12:54.605355Z"
    },
    "papermill": {
     "duration": 0.051052,
     "end_time": "2023-01-25T06:12:54.609305",
     "exception": false,
     "start_time": "2023-01-25T06:12:54.558253",
     "status": "completed"
    },
    "tags": []
   },
   "outputs": [
    {
     "name": "stdout",
     "output_type": "stream",
     "text": [
      "CPU times: user 14.4 ms, sys: 8.05 ms, total: 22.5 ms\n",
      "Wall time: 21.9 ms\n"
     ]
    }
   ],
   "source": [
    "%%time\n",
    "#(-1,1)に変換した特徴量を水平方向に並べる\n",
    "from scipy.sparse import hstack\n",
    "train_s=hstack((X_train,X_train_com,X_train_neg,X_train_pos,X_train_neu,X_train_len))\n",
    "test_s=hstack((X_test,X_test_com,X_test_neg,X_test_pos,X_test_neu,X_test_len))"
   ]
  },
  {
   "cell_type": "markdown",
   "id": "08517bfc",
   "metadata": {
    "papermill": {
     "duration": 0.01825,
     "end_time": "2023-01-25T06:12:54.645716",
     "exception": false,
     "start_time": "2023-01-25T06:12:54.627466",
     "status": "completed"
    },
    "tags": []
   },
   "source": [
    "### level0"
   ]
  },
  {
   "cell_type": "code",
   "execution_count": 15,
   "id": "65cce021",
   "metadata": {
    "execution": {
     "iopub.execute_input": "2023-01-25T06:12:54.684555Z",
     "iopub.status.busy": "2023-01-25T06:12:54.684136Z",
     "iopub.status.idle": "2023-01-25T06:12:54.689905Z",
     "shell.execute_reply": "2023-01-25T06:12:54.688631Z"
    },
    "papermill": {
     "duration": 0.028317,
     "end_time": "2023-01-25T06:12:54.692562",
     "exception": false,
     "start_time": "2023-01-25T06:12:54.664245",
     "status": "completed"
    },
    "tags": []
   },
   "outputs": [],
   "source": [
    "#LightBGMのパラメータ\n",
    "params_lgb = {\n",
    "    \"n_estimators\": 1000,\n",
    "    \"verbose\": -1\n",
    "}"
   ]
  },
  {
   "cell_type": "code",
   "execution_count": 16,
   "id": "a10ae2f3",
   "metadata": {
    "execution": {
     "iopub.execute_input": "2023-01-25T06:12:54.731072Z",
     "iopub.status.busy": "2023-01-25T06:12:54.730639Z",
     "iopub.status.idle": "2023-01-25T06:12:54.742010Z",
     "shell.execute_reply": "2023-01-25T06:12:54.740828Z"
    },
    "papermill": {
     "duration": 0.034144,
     "end_time": "2023-01-25T06:12:54.745068",
     "exception": false,
     "start_time": "2023-01-25T06:12:54.710924",
     "status": "completed"
    },
    "tags": []
   },
   "outputs": [],
   "source": [
    "#目的変数\n",
    "y_train=train[['cohesion','syntax','vocabulary','phraseology','grammar','conventions']]"
   ]
  },
  {
   "cell_type": "code",
   "execution_count": 17,
   "id": "406e9f3c",
   "metadata": {
    "execution": {
     "iopub.execute_input": "2023-01-25T06:12:54.783442Z",
     "iopub.status.busy": "2023-01-25T06:12:54.782539Z",
     "iopub.status.idle": "2023-01-25T06:16:29.468582Z",
     "shell.execute_reply": "2023-01-25T06:16:29.467357Z"
    },
    "papermill": {
     "duration": 214.726965,
     "end_time": "2023-01-25T06:16:29.490056",
     "exception": false,
     "start_time": "2023-01-25T06:12:54.763091",
     "status": "completed"
    },
    "tags": []
   },
   "outputs": [
    {
     "data": {
      "text/plain": [
       "MultiOutputRegressor(estimator=LGBMRegressor(n_estimators=1000, verbose=-1))"
      ]
     },
     "execution_count": 17,
     "metadata": {},
     "output_type": "execute_result"
    }
   ],
   "source": [
    "#LightBGMモデル作成\n",
    "model = MultiOutputRegressor(LGBMRegressor(**params_lgb))\n",
    "model.fit(train_s, y_train)"
   ]
  },
  {
   "cell_type": "code",
   "execution_count": 18,
   "id": "6657a51e",
   "metadata": {
    "execution": {
     "iopub.execute_input": "2023-01-25T06:16:29.528733Z",
     "iopub.status.busy": "2023-01-25T06:16:29.528338Z",
     "iopub.status.idle": "2023-01-25T06:16:29.535197Z",
     "shell.execute_reply": "2023-01-25T06:16:29.534029Z"
    },
    "papermill": {
     "duration": 0.029408,
     "end_time": "2023-01-25T06:16:29.537845",
     "exception": false,
     "start_time": "2023-01-25T06:16:29.508437",
     "status": "completed"
    },
    "tags": []
   },
   "outputs": [],
   "source": [
    "#CatBoostのパラメータ\n",
    "param = {'learning_rate': 0.3, \n",
    "          'depth': 12, \n",
    "          'l2_leaf_reg': 4, \n",
    "          'loss_function': 'MultiRMSE', \n",
    "          'eval_metric': 'MultiRMSE', \n",
    "          'task_type': 'CPU', \n",
    "          'iterations': 20,\n",
    "          'od_type': 'Iter', \n",
    "          'boosting_type': 'Plain', \n",
    "          'bootstrap_type': 'Bayesian', \n",
    "          'allow_const_label': True, \n",
    "          'random_state': 1\n",
    "         }"
   ]
  },
  {
   "cell_type": "code",
   "execution_count": 19,
   "id": "c0e21a33",
   "metadata": {
    "execution": {
     "iopub.execute_input": "2023-01-25T06:16:29.578399Z",
     "iopub.status.busy": "2023-01-25T06:16:29.577234Z",
     "iopub.status.idle": "2023-01-25T06:41:36.902856Z",
     "shell.execute_reply": "2023-01-25T06:41:36.901607Z"
    },
    "papermill": {
     "duration": 1507.367957,
     "end_time": "2023-01-25T06:41:36.924814",
     "exception": false,
     "start_time": "2023-01-25T06:16:29.556857",
     "status": "completed"
    },
    "tags": []
   },
   "outputs": [
    {
     "name": "stdout",
     "output_type": "stream",
     "text": [
      "0:\tlearn: 1.5227211\ttotal: 1m 17s\tremaining: 24m 41s\n",
      "1:\tlearn: 1.4675746\ttotal: 2m 36s\tremaining: 23m 26s\n",
      "2:\tlearn: 1.4133314\ttotal: 3m 54s\tremaining: 22m 8s\n",
      "3:\tlearn: 1.3742196\ttotal: 5m 12s\tremaining: 20m 50s\n",
      "4:\tlearn: 1.3321844\ttotal: 6m 30s\tremaining: 19m 31s\n",
      "5:\tlearn: 1.2941530\ttotal: 7m 48s\tremaining: 18m 13s\n",
      "6:\tlearn: 1.2711735\ttotal: 9m 5s\tremaining: 16m 53s\n",
      "7:\tlearn: 1.2429122\ttotal: 10m 24s\tremaining: 15m 36s\n",
      "8:\tlearn: 1.2072600\ttotal: 11m 42s\tremaining: 14m 18s\n",
      "9:\tlearn: 1.1784177\ttotal: 12m 59s\tremaining: 12m 59s\n",
      "10:\tlearn: 1.1599020\ttotal: 14m 17s\tremaining: 11m 41s\n",
      "11:\tlearn: 1.1426351\ttotal: 15m 34s\tremaining: 10m 22s\n",
      "12:\tlearn: 1.1224001\ttotal: 16m 52s\tremaining: 9m 5s\n",
      "13:\tlearn: 1.1028159\ttotal: 18m 9s\tremaining: 7m 46s\n",
      "14:\tlearn: 1.0928683\ttotal: 18m 38s\tremaining: 6m 12s\n",
      "15:\tlearn: 1.0764745\ttotal: 19m 56s\tremaining: 4m 59s\n",
      "16:\tlearn: 1.0395173\ttotal: 21m 13s\tremaining: 3m 44s\n",
      "17:\tlearn: 1.0253966\ttotal: 22m 31s\tremaining: 2m 30s\n",
      "18:\tlearn: 1.0199482\ttotal: 23m 48s\tremaining: 1m 15s\n",
      "19:\tlearn: 1.0044575\ttotal: 25m 6s\tremaining: 0us\n"
     ]
    },
    {
     "data": {
      "text/plain": [
       "<catboost.core.CatBoostRegressor at 0x7f9c6ef5d6d0>"
      ]
     },
     "execution_count": 19,
     "metadata": {},
     "output_type": "execute_result"
    }
   ],
   "source": [
    "#CatBoostモデル作成\n",
    "model2 = CatBoostRegressor(**param)\n",
    "model2.fit(train_s, y_train)"
   ]
  },
  {
   "cell_type": "code",
   "execution_count": 20,
   "id": "23631650",
   "metadata": {
    "execution": {
     "iopub.execute_input": "2023-01-25T06:41:36.966233Z",
     "iopub.status.busy": "2023-01-25T06:41:36.965810Z",
     "iopub.status.idle": "2023-01-25T06:41:38.029771Z",
     "shell.execute_reply": "2023-01-25T06:41:38.028256Z"
    },
    "papermill": {
     "duration": 1.088986,
     "end_time": "2023-01-25T06:41:38.033316",
     "exception": false,
     "start_time": "2023-01-25T06:41:36.944330",
     "status": "completed"
    },
    "tags": []
   },
   "outputs": [
    {
     "data": {
      "text/plain": [
       "Ridge(copy_X=False)"
      ]
     },
     "execution_count": 20,
     "metadata": {},
     "output_type": "execute_result"
    }
   ],
   "source": [
    "#Ridgeモデル作成\n",
    "model3 = Ridge(copy_X=False)\n",
    "model3.fit(train_s, y_train)"
   ]
  },
  {
   "cell_type": "code",
   "execution_count": 21,
   "id": "daba9458",
   "metadata": {
    "execution": {
     "iopub.execute_input": "2023-01-25T06:41:38.100218Z",
     "iopub.status.busy": "2023-01-25T06:41:38.099577Z",
     "iopub.status.idle": "2023-01-25T06:47:49.702311Z",
     "shell.execute_reply": "2023-01-25T06:47:49.700844Z"
    },
    "papermill": {
     "duration": 371.659986,
     "end_time": "2023-01-25T06:47:49.725539",
     "exception": false,
     "start_time": "2023-01-25T06:41:38.065553",
     "status": "completed"
    },
    "tags": []
   },
   "outputs": [
    {
     "data": {
      "text/plain": [
       "MultiOutputRegressor(estimator=XGBRegressor(base_score=None, booster=None,\n",
       "                                            callbacks=None,\n",
       "                                            colsample_bylevel=None,\n",
       "                                            colsample_bynode=None,\n",
       "                                            colsample_bytree=None,\n",
       "                                            early_stopping_rounds=None,\n",
       "                                            enable_categorical=False,\n",
       "                                            eval_metric=None, gamma=None,\n",
       "                                            gpu_id=None, grow_policy=None,\n",
       "                                            importance_type=None,\n",
       "                                            interaction_constraints=None,\n",
       "                                            learning_rate=None, max_bin=None,\n",
       "                                            max_cat_to_onehot=None,\n",
       "                                            max_delta_step=None, max_depth=None,\n",
       "                                            max_leaves=None,\n",
       "                                            min_child_weight=None, missing=nan,\n",
       "                                            monotone_constraints=None,\n",
       "                                            n_estimators=500, n_jobs=None,\n",
       "                                            num_parallel_tree=None,\n",
       "                                            predictor=None, random_state=0,\n",
       "                                            reg_alpha=None, reg_lambda=None, ...),\n",
       "                     n_jobs=2)"
      ]
     },
     "execution_count": 21,
     "metadata": {},
     "output_type": "execute_result"
    }
   ],
   "source": [
    "#XGBoostモデル作成\n",
    "xgb_estimator = xgb.XGBRegressor(\n",
    "        n_estimators=500, random_state=0, \n",
    "        objective='reg:squarederror')\n",
    "model4 = MultiOutputRegressor(xgb_estimator, n_jobs=2)\n",
    "model4.fit(train_s, y_train)"
   ]
  },
  {
   "cell_type": "code",
   "execution_count": 22,
   "id": "b44a7b2c",
   "metadata": {
    "execution": {
     "iopub.execute_input": "2023-01-25T06:47:49.769184Z",
     "iopub.status.busy": "2023-01-25T06:47:49.768307Z",
     "iopub.status.idle": "2023-01-25T06:47:51.980146Z",
     "shell.execute_reply": "2023-01-25T06:47:51.979021Z"
    },
    "papermill": {
     "duration": 2.236955,
     "end_time": "2023-01-25T06:47:51.983089",
     "exception": false,
     "start_time": "2023-01-25T06:47:49.746134",
     "status": "completed"
    },
    "tags": []
   },
   "outputs": [
    {
     "name": "stderr",
     "output_type": "stream",
     "text": [
      "/opt/conda/lib/python3.7/site-packages/lightgbm/basic.py:859: UserWarning: Converting data to scipy sparse matrix.\n",
      "  _log_warning('Converting data to scipy sparse matrix.')\n"
     ]
    }
   ],
   "source": [
    "#トレーニングデータで各モデル予測\n",
    "first_pred_1 = model.predict(train_s)\n",
    "first_pred_2 = model2.predict(train_s)\n",
    "first_pred_3 = model3.predict(train_s)\n",
    "first_pred_4 = model4.predict(train_s)\n",
    "#水平方向に結果を並べる\n",
    "stack_pred = np.column_stack((first_pred_1,first_pred_2,first_pred_3,first_pred_4))"
   ]
  },
  {
   "cell_type": "markdown",
   "id": "7094c184",
   "metadata": {
    "papermill": {
     "duration": 0.019928,
     "end_time": "2023-01-25T06:47:52.023449",
     "exception": false,
     "start_time": "2023-01-25T06:47:52.003521",
     "status": "completed"
    },
    "tags": []
   },
   "source": [
    "### level1"
   ]
  },
  {
   "cell_type": "code",
   "execution_count": 23,
   "id": "ac704529",
   "metadata": {
    "execution": {
     "iopub.execute_input": "2023-01-25T06:47:52.067602Z",
     "iopub.status.busy": "2023-01-25T06:47:52.066464Z",
     "iopub.status.idle": "2023-01-25T06:47:52.074211Z",
     "shell.execute_reply": "2023-01-25T06:47:52.073028Z"
    },
    "papermill": {
     "duration": 0.03255,
     "end_time": "2023-01-25T06:47:52.076901",
     "exception": false,
     "start_time": "2023-01-25T06:47:52.044351",
     "status": "completed"
    },
    "tags": []
   },
   "outputs": [],
   "source": [
    "#メタモデル用のCatBoostパラメータ\n",
    "params = {'learning_rate': 0.3, \n",
    "          'depth': 12, \n",
    "          'l2_leaf_reg': 4, \n",
    "          'loss_function': 'MultiRMSE', \n",
    "          'eval_metric': 'MultiRMSE', \n",
    "          'task_type': 'CPU', \n",
    "          'iterations': 20,\n",
    "          'od_type': 'Iter', \n",
    "          'boosting_type': 'Plain', \n",
    "          'bootstrap_type': 'Bayesian', \n",
    "          'allow_const_label': True, \n",
    "          'random_state': 1\n",
    "         }"
   ]
  },
  {
   "cell_type": "code",
   "execution_count": 24,
   "id": "b568dcc2",
   "metadata": {
    "execution": {
     "iopub.execute_input": "2023-01-25T06:47:52.119533Z",
     "iopub.status.busy": "2023-01-25T06:47:52.118687Z",
     "iopub.status.idle": "2023-01-25T06:48:21.841521Z",
     "shell.execute_reply": "2023-01-25T06:48:21.840044Z"
    },
    "papermill": {
     "duration": 29.74683,
     "end_time": "2023-01-25T06:48:21.843997",
     "exception": false,
     "start_time": "2023-01-25T06:47:52.097167",
     "status": "completed"
    },
    "tags": []
   },
   "outputs": [
    {
     "name": "stdout",
     "output_type": "stream",
     "text": [
      "0:\tlearn: 1.2759208\ttotal: 1.49s\tremaining: 28.3s\n",
      "1:\tlearn: 1.0311473\ttotal: 2.95s\tremaining: 26.5s\n",
      "2:\tlearn: 0.8468462\ttotal: 4.45s\tremaining: 25.2s\n",
      "3:\tlearn: 0.7172320\ttotal: 5.89s\tremaining: 23.6s\n",
      "4:\tlearn: 0.6172556\ttotal: 7.35s\tremaining: 22s\n",
      "5:\tlearn: 0.5372492\ttotal: 8.8s\tremaining: 20.5s\n",
      "6:\tlearn: 0.4779172\ttotal: 10.3s\tremaining: 19.1s\n",
      "7:\tlearn: 0.4345750\ttotal: 11.7s\tremaining: 17.6s\n",
      "8:\tlearn: 0.3993495\ttotal: 13.2s\tremaining: 16.1s\n",
      "9:\tlearn: 0.3719801\ttotal: 14.8s\tremaining: 14.8s\n",
      "10:\tlearn: 0.3524307\ttotal: 16.4s\tremaining: 13.4s\n",
      "11:\tlearn: 0.3375105\ttotal: 17.9s\tremaining: 11.9s\n",
      "12:\tlearn: 0.3220324\ttotal: 19.4s\tremaining: 10.4s\n",
      "13:\tlearn: 0.3084164\ttotal: 20.9s\tremaining: 8.94s\n",
      "14:\tlearn: 0.3001843\ttotal: 22.3s\tremaining: 7.44s\n",
      "15:\tlearn: 0.2896271\ttotal: 23.8s\tremaining: 5.95s\n",
      "16:\tlearn: 0.2800231\ttotal: 25.3s\tremaining: 4.46s\n",
      "17:\tlearn: 0.2715976\ttotal: 26.8s\tremaining: 2.97s\n",
      "18:\tlearn: 0.2639165\ttotal: 28.2s\tremaining: 1.48s\n",
      "19:\tlearn: 0.2580220\ttotal: 29.6s\tremaining: 0us\n"
     ]
    },
    {
     "data": {
      "text/plain": [
       "<catboost.core.CatBoostRegressor at 0x7f9c6e6509d0>"
      ]
     },
     "execution_count": 24,
     "metadata": {},
     "output_type": "execute_result"
    }
   ],
   "source": [
    "#CatBoostでメタモデルの作成\n",
    "meta_model =  CatBoostRegressor(**params)\n",
    "meta_model.fit(stack_pred, y_train)"
   ]
  },
  {
   "cell_type": "code",
   "execution_count": 25,
   "id": "d4507be5",
   "metadata": {
    "execution": {
     "iopub.execute_input": "2023-01-25T06:48:21.890065Z",
     "iopub.status.busy": "2023-01-25T06:48:21.888687Z",
     "iopub.status.idle": "2023-01-25T06:48:22.083895Z",
     "shell.execute_reply": "2023-01-25T06:48:22.082917Z"
    },
    "papermill": {
     "duration": 0.221331,
     "end_time": "2023-01-25T06:48:22.087191",
     "exception": false,
     "start_time": "2023-01-25T06:48:21.865860",
     "status": "completed"
    },
    "tags": []
   },
   "outputs": [],
   "source": [
    "#テストデータで各モデル予測\n",
    "pred_1 = model.predict(test_s)\n",
    "pred_2 = model2.predict(test_s)\n",
    "pred_3 = model3.predict(test_s)\n",
    "pred_4 = model4.predict(test_s)\n",
    "#水平方向に結果を並べる\n",
    "test_stack_pred = np.column_stack((pred_1,pred_2,pred_3,pred_4))"
   ]
  },
  {
   "cell_type": "code",
   "execution_count": 26,
   "id": "a98d8b58",
   "metadata": {
    "execution": {
     "iopub.execute_input": "2023-01-25T06:48:22.134379Z",
     "iopub.status.busy": "2023-01-25T06:48:22.133947Z",
     "iopub.status.idle": "2023-01-25T06:48:22.140792Z",
     "shell.execute_reply": "2023-01-25T06:48:22.139936Z"
    },
    "papermill": {
     "duration": 0.03395,
     "end_time": "2023-01-25T06:48:22.143095",
     "exception": false,
     "start_time": "2023-01-25T06:48:22.109145",
     "status": "completed"
    },
    "tags": []
   },
   "outputs": [],
   "source": [
    "#メタモデルでテストデータ予測\n",
    "y_test=meta_model.predict(test_stack_pred)"
   ]
  },
  {
   "cell_type": "code",
   "execution_count": 27,
   "id": "21c34aba",
   "metadata": {
    "execution": {
     "iopub.execute_input": "2023-01-25T06:48:22.188793Z",
     "iopub.status.busy": "2023-01-25T06:48:22.187635Z",
     "iopub.status.idle": "2023-01-25T06:48:22.204970Z",
     "shell.execute_reply": "2023-01-25T06:48:22.203812Z"
    },
    "papermill": {
     "duration": 0.042764,
     "end_time": "2023-01-25T06:48:22.207625",
     "exception": false,
     "start_time": "2023-01-25T06:48:22.164861",
     "status": "completed"
    },
    "tags": []
   },
   "outputs": [],
   "source": [
    "#提出用サンプルデータ作成\n",
    "sample = pd.read_csv('../input/feedback-prize-english-language-learning/sample_submission.csv')"
   ]
  },
  {
   "cell_type": "code",
   "execution_count": 28,
   "id": "ec9a85f0",
   "metadata": {
    "execution": {
     "iopub.execute_input": "2023-01-25T06:48:22.254905Z",
     "iopub.status.busy": "2023-01-25T06:48:22.254426Z",
     "iopub.status.idle": "2023-01-25T06:48:22.263283Z",
     "shell.execute_reply": "2023-01-25T06:48:22.262064Z"
    },
    "papermill": {
     "duration": 0.034817,
     "end_time": "2023-01-25T06:48:22.265628",
     "exception": false,
     "start_time": "2023-01-25T06:48:22.230811",
     "status": "completed"
    },
    "tags": []
   },
   "outputs": [],
   "source": [
    "#スライスで提出用データに予測を書き込む\n",
    "sample['cohesion']=y_test[:,0]\n",
    "sample['syntax']=y_test[:,1]\n",
    "sample['vocabulary']=y_test[:,2]\n",
    "sample['phraseology']=y_test[:,3]\n",
    "sample['grammar']=y_test[:,4]\n",
    "sample['conventions']=y_test[:,5]"
   ]
  },
  {
   "cell_type": "code",
   "execution_count": 29,
   "id": "30b62eee",
   "metadata": {
    "execution": {
     "iopub.execute_input": "2023-01-25T06:48:22.311326Z",
     "iopub.status.busy": "2023-01-25T06:48:22.310878Z",
     "iopub.status.idle": "2023-01-25T06:48:22.316328Z",
     "shell.execute_reply": "2023-01-25T06:48:22.315067Z"
    },
    "papermill": {
     "duration": 0.031403,
     "end_time": "2023-01-25T06:48:22.318900",
     "exception": false,
     "start_time": "2023-01-25T06:48:22.287497",
     "status": "completed"
    },
    "tags": []
   },
   "outputs": [],
   "source": [
    "#'text_id'を提出用データに書き込む\n",
    "sample['text_id']=test['text_id']"
   ]
  },
  {
   "cell_type": "code",
   "execution_count": 30,
   "id": "72cfc752",
   "metadata": {
    "execution": {
     "iopub.execute_input": "2023-01-25T06:48:22.365366Z",
     "iopub.status.busy": "2023-01-25T06:48:22.364922Z",
     "iopub.status.idle": "2023-01-25T06:48:22.374233Z",
     "shell.execute_reply": "2023-01-25T06:48:22.373123Z"
    },
    "papermill": {
     "duration": 0.03591,
     "end_time": "2023-01-25T06:48:22.376722",
     "exception": false,
     "start_time": "2023-01-25T06:48:22.340812",
     "status": "completed"
    },
    "tags": []
   },
   "outputs": [],
   "source": [
    "#提出用データでcsvを作成\n",
    "sample.to_csv('submission.csv',index=False)"
   ]
  }
 ],
 "metadata": {
  "kernelspec": {
   "display_name": "Python 3",
   "language": "python",
   "name": "python3"
  },
  "language_info": {
   "codemirror_mode": {
    "name": "ipython",
    "version": 3
   },
   "file_extension": ".py",
   "mimetype": "text/x-python",
   "name": "python",
   "nbconvert_exporter": "python",
   "pygments_lexer": "ipython3",
   "version": "3.7.12"
  },
  "papermill": {
   "default_parameters": {},
   "duration": 2162.938167,
   "end_time": "2023-01-25T06:48:25.024584",
   "environment_variables": {},
   "exception": null,
   "input_path": "__notebook__.ipynb",
   "output_path": "__notebook__.ipynb",
   "parameters": {},
   "start_time": "2023-01-25T06:12:22.086417",
   "version": "2.3.4"
  }
 },
 "nbformat": 4,
 "nbformat_minor": 5
}
